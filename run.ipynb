{
 "cells": [
  {
   "cell_type": "code",
   "execution_count": null,
   "id": "b3931a5f",
   "metadata": {
    "lines_to_next_cell": 2
   },
   "outputs": [],
   "source": [
    "# IMPORT PACKAGES, /modules, AND LIBRARIES\n",
    "# -------------------------------------------\n",
    "# Import functions from modules\n",
    "from modules import *"
   ]
  },
  {
   "cell_type": "code",
   "execution_count": null,
   "id": "d78b1fa4",
   "metadata": {
    "lines_to_next_cell": 2
   },
   "outputs": [],
   "source": [
    "# DATA SOURCE INIT\n",
    "# -------------------------------------------\n",
    "# Input datasource to Master_df\n",
    "Master_df = pd.DataFrame(\n",
    "    pd.read_excel(\n",
    "        \"Datasource/Master Data.xlsx\",\n",
    "        sheet_name=\"Location Distance\",\n",
    "    )\n",
    ")"
   ]
  },
  {
   "cell_type": "code",
   "execution_count": null,
   "id": "bd7a77ed",
   "metadata": {},
   "outputs": [],
   "source": [
    "# PSO INITIALIZATION\n",
    "# -------------------------------------------\n",
    "# Base Parameter\n",
    "n = 100  # Max Iteration\n",
    "N = 25  # Swarm Size\n",
    "d = len(Master_df)  # Dimention Size\n",
    "c1 = 2  # Learning Rates\n",
    "c2 = 2  # Learning Rates"
   ]
  },
  {
   "cell_type": "markdown",
   "id": "6a9f3a1c",
   "metadata": {},
   "source": [
    "Inertia Weight\n",
    "here, i use random inertia weight strategy every iteration\n",
    "so, i generate it by function in function_def.py"
   ]
  },
  {
   "cell_type": "code",
   "execution_count": null,
   "id": "e11e1721",
   "metadata": {},
   "outputs": [],
   "source": [
    "# Position Clamping\n",
    "X_min = 0\n",
    "X_max = 1"
   ]
  },
  {
   "cell_type": "code",
   "execution_count": null,
   "id": "5c96df44",
   "metadata": {},
   "outputs": [],
   "source": [
    "# Generate Xj and Initial Position\n",
    "Xj = initial_swarm_positions(N,d,X_min,X_max)\n",
    "print_df(Xj)"
   ]
  }
 ],
 "metadata": {
  "jupytext": {
   "cell_metadata_filter": "-all",
   "main_language": "python",
   "notebook_metadata_filter": "-all"
  }
 },
 "nbformat": 4,
 "nbformat_minor": 5
}
